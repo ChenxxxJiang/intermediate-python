{
 "cells": [
  {
   "cell_type": "code",
   "execution_count": 73,
   "metadata": {},
   "outputs": [
    {
     "data": {
      "text/html": [
       "<style>\n",
       ".rendered_html\n",
       "{\n",
       "  color: #2C5494;\n",
       "  font-family: Ubuntu;\n",
       "  font-size: 140%;\n",
       "  line-height: 1.1;\n",
       "  margin: 0.5em 0;\n",
       "  }\n",
       ".talk_title\n",
       "{\n",
       "  color: #498AF3;\n",
       "  font-size: 250%;\n",
       "  font-weight:bold;\n",
       "  line-height: 1.2; \n",
       "  margin: 10px 50px 10px;\n",
       "  }\n",
       ".subtitle\n",
       "{\n",
       "  color: #386BBC;\n",
       "  font-size: 180%;\n",
       "  font-weight:bold;\n",
       "  line-height: 1.2; \n",
       "  margin: 20px 50px 20px;\n",
       "  }\n",
       ".slide-header, p.slide-header\n",
       "{\n",
       "  color: #498AF3;\n",
       "  font-size: 200%;\n",
       "  font-weight:bold;\n",
       "  margin: 0px 20px 10px;\n",
       "  page-break-before: always;\n",
       "  text-align: center;\n",
       "  }\n",
       ".rendered_html h1\n",
       "{\n",
       "  color: #498AF3;\n",
       "  line-height: 1.2; \n",
       "  margin: 0.15em 0em 0.5em;\n",
       "  page-break-before: always;\n",
       "  text-align: center;\n",
       "  }\n",
       ".rendered_html h2\n",
       "{ \n",
       "  color: #386BBC;\n",
       "  line-height: 1.2;\n",
       "  margin: 1.1em 0em 0.5em;\n",
       "  }\n",
       ".rendered_html h3\n",
       "{ \n",
       "  font-size: 100%;\n",
       "  line-height: 1.2;\n",
       "  margin: 1.1em 0em 0.5em;\n",
       "  }\n",
       ".rendered_html li\n",
       "{\n",
       "  line-height: 1.8;\n",
       "  }\n",
       ".input_prompt, .CodeMirror-lines, .output_area\n",
       "{\n",
       "  font-family: Consolas;\n",
       "  font-size: 120%;\n",
       "  }\n",
       ".gap-above\n",
       "{\n",
       "  padding-top: 200px;\n",
       "  }\n",
       ".gap01\n",
       "{\n",
       "  padding-top: 10px;\n",
       "  }\n",
       ".gap05\n",
       "{\n",
       "  padding-top: 50px;\n",
       "  }\n",
       ".gap1\n",
       "{\n",
       "  padding-top: 100px;\n",
       "  }\n",
       ".gap2\n",
       "{\n",
       "  padding-top: 200px;\n",
       "  }\n",
       ".gap3\n",
       "{\n",
       "  padding-top: 300px;\n",
       "  }\n",
       ".emph\n",
       "{\n",
       "  color: #386BBC;\n",
       "  }\n",
       ".warn\n",
       "{\n",
       "  color: red;\n",
       "  }\n",
       ".center\n",
       "{\n",
       "  text-align: center;\n",
       "  }\n",
       ".nb_link\n",
       "{\n",
       "    padding-bottom: 0.5em;\n",
       "}\n",
       "</style>"
      ],
      "text/plain": [
       "<IPython.core.display.HTML object>"
      ]
     },
     "metadata": {},
     "output_type": "display_data"
    }
   ],
   "source": [
    "%run talktools.py #run this cell first!"
   ]
  },
  {
   "cell_type": "markdown",
   "metadata": {},
   "source": [
    "# Intermediate Python Workshop\n",
    "Physics and Astronomy ULAB, Spring 2019"
   ]
  },
  {
   "cell_type": "markdown",
   "metadata": {},
   "source": [
    "## Introduction"
   ]
  },
  {
   "cell_type": "markdown",
   "metadata": {},
   "source": [
    "Over the next hour or so, we'll be working through a fun problem to make evident a few tips, tricks, and tools that make a research workflow much more smooth. The problem we'll be working on is related to the [Transiting Exoplanet Survey Satellite](https://tess.mit.edu/) — more succinctly known as TESS. Hopefully, you'll be able to reference some of the methods we use here in your future projects!\n",
    "\n",
    "<img src='img/tess.jpg' width=700 height=700></img>\n",
    "Source: NASA"
   ]
  },
  {
   "cell_type": "markdown",
   "metadata": {},
   "source": [
    "### The goal\n",
    "In essence, what we'll be doing is calculating the periods of all the planet candidates that TESS has produced and comparing our calculations to the estimates that the TESS team provides. In the process, we'll use a variety of fun tools!\n",
    "\n",
    "Technical caveat: we'll only be accessing the candidates with designated Target Pixel Files (TPFs); I haven't written anything to look at the full-frame images (FFIs) yet."
   ]
  },
  {
   "cell_type": "markdown",
   "metadata": {},
   "source": [
    "### A brief overview of the science involved\n",
    "\n",
    "Before we dive into the coding, it's important that we understand a bit about the background science. Thankfully, transits are a very physical concept, and thus I find that interpreting the relevant data is somewhat intuitive. Essentially, if we're looking at a planet orbit a star edge-on, from our perspective the planet will block some of its host star's light at some point during the orbit. When this happens, we can measure how much less light we're receiving from the star. In general, for a given star, the larger the planet, the more light it blocks — or, to use more technical terms, the stronger the transit signal.\n",
    "\n",
    "<img src='img/transit.jpg' width=700 height=700></img>\n",
    "Source: ESA\n",
    "\n",
    "If we see a planet transit its host star multiple times, we can calculate the period of its orbit. One common way to do this in practice is by using the [Box Least Squares algorithm](https://arxiv.org/pdf/astro-ph/0206099.pdf) (Kovacs et. al 2002). The algorithm essentially models the transit as a small box, slides it over the light curve, and minimizes the error. And with that, let's dive right into it!"
   ]
  },
  {
   "cell_type": "markdown",
   "metadata": {},
   "source": [
    "## Dependencies\n",
    "The first thing we need to do is make sure that we all have the requisite packages."
   ]
  },
  {
   "cell_type": "code",
   "execution_count": 11,
   "metadata": {},
   "outputs": [
    {
     "name": "stdout",
     "output_type": "stream",
     "text": [
      "Collecting lightkurve\n",
      "Requirement already satisfied: astroquery>=0.3.9 in /srv/app/venv/lib/python3.6/site-packages (from lightkurve)\n",
      "Requirement already satisfied: numpy>=1.11 in /srv/app/venv/lib/python3.6/site-packages (from lightkurve)\n",
      "Requirement already satisfied: tqdm in /srv/app/venv/lib/python3.6/site-packages (from lightkurve)\n",
      "Collecting bs4 (from lightkurve)\n",
      "Requirement already satisfied: pandas in /srv/app/venv/lib/python3.6/site-packages (from lightkurve)\n",
      "Collecting oktopus (from lightkurve)\n",
      "Requirement already satisfied: requests in /srv/app/venv/lib/python3.6/site-packages (from lightkurve)\n",
      "Requirement already satisfied: matplotlib>=1.5.3 in /srv/app/venv/lib/python3.6/site-packages (from lightkurve)\n",
      "Requirement already satisfied: scipy>=0.19.0 in /srv/app/venv/lib/python3.6/site-packages (from lightkurve)\n",
      "Requirement already satisfied: astropy>=1.3 in /srv/app/venv/lib/python3.6/site-packages (from lightkurve)\n",
      "Requirement already satisfied: beautifulsoup4>=4.3.2 in /srv/app/venv/lib/python3.6/site-packages (from astroquery>=0.3.9->lightkurve)\n",
      "Requirement already satisfied: html5lib>=0.999 in /srv/app/venv/lib/python3.6/site-packages (from astroquery>=0.3.9->lightkurve)\n",
      "Requirement already satisfied: keyring>=4.0 in /srv/app/venv/lib/python3.6/site-packages (from astroquery>=0.3.9->lightkurve)\n",
      "Requirement already satisfied: python-dateutil>=2.5.0 in /srv/app/venv/lib/python3.6/site-packages (from pandas->lightkurve)\n",
      "Requirement already satisfied: pytz>=2011k in /srv/app/venv/lib/python3.6/site-packages (from pandas->lightkurve)\n",
      "Collecting autograd (from oktopus->lightkurve)\n",
      "Requirement already satisfied: idna<2.9,>=2.5 in /srv/app/venv/lib/python3.6/site-packages (from requests->lightkurve)\n",
      "Requirement already satisfied: chardet<3.1.0,>=3.0.2 in /srv/app/venv/lib/python3.6/site-packages (from requests->lightkurve)\n",
      "Requirement already satisfied: urllib3<1.25,>=1.21.1 in /srv/app/venv/lib/python3.6/site-packages (from requests->lightkurve)\n",
      "Requirement already satisfied: certifi>=2017.4.17 in /srv/app/venv/lib/python3.6/site-packages (from requests->lightkurve)\n",
      "Requirement already satisfied: cycler>=0.10 in /srv/app/venv/lib/python3.6/site-packages (from matplotlib>=1.5.3->lightkurve)\n",
      "Requirement already satisfied: pyparsing!=2.0.4,!=2.1.2,!=2.1.6,>=2.0.1 in /srv/app/venv/lib/python3.6/site-packages (from matplotlib>=1.5.3->lightkurve)\n",
      "Requirement already satisfied: kiwisolver>=1.0.1 in /srv/app/venv/lib/python3.6/site-packages (from matplotlib>=1.5.3->lightkurve)\n",
      "Requirement already satisfied: webencodings in /srv/app/venv/lib/python3.6/site-packages (from html5lib>=0.999->astroquery>=0.3.9->lightkurve)\n",
      "Requirement already satisfied: six>=1.9 in /srv/app/venv/lib/python3.6/site-packages (from html5lib>=0.999->astroquery>=0.3.9->lightkurve)\n",
      "Requirement already satisfied: secretstorage; sys_platform == \"linux\" in /srv/app/venv/lib/python3.6/site-packages (from keyring>=4.0->astroquery>=0.3.9->lightkurve)\n",
      "Requirement already satisfied: entrypoints in /srv/app/venv/lib/python3.6/site-packages (from keyring>=4.0->astroquery>=0.3.9->lightkurve)\n",
      "Requirement already satisfied: future>=0.15.2 in /srv/app/venv/lib/python3.6/site-packages (from autograd->oktopus->lightkurve)\n",
      "Requirement already satisfied: setuptools in /srv/app/venv/lib/python3.6/site-packages (from kiwisolver>=1.0.1->matplotlib>=1.5.3->lightkurve)\n",
      "Requirement already satisfied: jeepney in /srv/app/venv/lib/python3.6/site-packages (from secretstorage; sys_platform == \"linux\"->keyring>=4.0->astroquery>=0.3.9->lightkurve)\n",
      "Requirement already satisfied: cryptography in /srv/app/venv/lib/python3.6/site-packages (from secretstorage; sys_platform == \"linux\"->keyring>=4.0->astroquery>=0.3.9->lightkurve)\n",
      "Requirement already satisfied: cffi!=1.11.3,>=1.8 in /srv/app/venv/lib/python3.6/site-packages (from cryptography->secretstorage; sys_platform == \"linux\"->keyring>=4.0->astroquery>=0.3.9->lightkurve)\n",
      "Requirement already satisfied: asn1crypto>=0.21.0 in /srv/app/venv/lib/python3.6/site-packages (from cryptography->secretstorage; sys_platform == \"linux\"->keyring>=4.0->astroquery>=0.3.9->lightkurve)\n",
      "Requirement already satisfied: pycparser in /srv/app/venv/lib/python3.6/site-packages (from cffi!=1.11.3,>=1.8->cryptography->secretstorage; sys_platform == \"linux\"->keyring>=4.0->astroquery>=0.3.9->lightkurve)\n",
      "Installing collected packages: bs4, autograd, oktopus, lightkurve\n",
      "Successfully installed autograd-1.2 bs4-0.0.1 lightkurve-1.0.0 oktopus-0.1.2\n",
      "Collecting line_profiler\n",
      "  Downloading https://files.pythonhosted.org/packages/14/fc/ecf4e238bb601ff829068e5a72cd1bd67b0ee0ae379db172eb6a0779c6b6/line_profiler-2.1.2.tar.gz (83kB)\n",
      "\u001b[K    100% |████████████████████████████████| 92kB 1.8MB/s ta 0:00:011\n",
      "\u001b[?25hRequirement already satisfied: IPython>=0.13 in /srv/app/venv/lib/python3.6/site-packages (from line_profiler)\n",
      "Requirement already satisfied: traitlets>=4.2 in /srv/app/venv/lib/python3.6/site-packages (from IPython>=0.13->line_profiler)\n",
      "Requirement already satisfied: backcall in /srv/app/venv/lib/python3.6/site-packages (from IPython>=0.13->line_profiler)\n",
      "Requirement already satisfied: pexpect; sys_platform != \"win32\" in /srv/app/venv/lib/python3.6/site-packages (from IPython>=0.13->line_profiler)\n",
      "Requirement already satisfied: jedi>=0.10 in /srv/app/venv/lib/python3.6/site-packages (from IPython>=0.13->line_profiler)\n",
      "Requirement already satisfied: prompt-toolkit<2.1.0,>=2.0.0 in /srv/app/venv/lib/python3.6/site-packages (from IPython>=0.13->line_profiler)\n",
      "Requirement already satisfied: decorator in /srv/app/venv/lib/python3.6/site-packages (from IPython>=0.13->line_profiler)\n",
      "Requirement already satisfied: pygments in /srv/app/venv/lib/python3.6/site-packages (from IPython>=0.13->line_profiler)\n",
      "Requirement already satisfied: setuptools>=18.5 in /srv/app/venv/lib/python3.6/site-packages (from IPython>=0.13->line_profiler)\n",
      "Requirement already satisfied: pickleshare in /srv/app/venv/lib/python3.6/site-packages (from IPython>=0.13->line_profiler)\n",
      "Requirement already satisfied: six in /srv/app/venv/lib/python3.6/site-packages (from traitlets>=4.2->IPython>=0.13->line_profiler)\n",
      "Requirement already satisfied: ipython-genutils in /srv/app/venv/lib/python3.6/site-packages (from traitlets>=4.2->IPython>=0.13->line_profiler)\n",
      "Requirement already satisfied: ptyprocess>=0.5 in /srv/app/venv/lib/python3.6/site-packages (from pexpect; sys_platform != \"win32\"->IPython>=0.13->line_profiler)\n",
      "Requirement already satisfied: parso>=0.3.0 in /srv/app/venv/lib/python3.6/site-packages (from jedi>=0.10->IPython>=0.13->line_profiler)\n",
      "Requirement already satisfied: wcwidth in /srv/app/venv/lib/python3.6/site-packages (from prompt-toolkit<2.1.0,>=2.0.0->IPython>=0.13->line_profiler)\n",
      "Building wheels for collected packages: line-profiler\n",
      "  Running setup.py bdist_wheel for line-profiler ... \u001b[?25ldone\n",
      "\u001b[?25h  Stored in directory: /home/jovyan/.cache/pip/wheels/05/7d/9b/aafbe8d78dc2b2c644d2efd2f060ab3258143860142575193a\n",
      "Successfully built line-profiler\n",
      "Installing collected packages: line-profiler\n",
      "Successfully installed line-profiler-2.1.2\n",
      "Collecting ipdb\n",
      "Requirement already satisfied: ipython>=5.1.0; python_version >= \"3.4\" in /srv/app/venv/lib/python3.6/site-packages (from ipdb)\n",
      "Requirement already satisfied: setuptools in /srv/app/venv/lib/python3.6/site-packages (from ipdb)\n",
      "Requirement already satisfied: traitlets>=4.2 in /srv/app/venv/lib/python3.6/site-packages (from ipython>=5.1.0; python_version >= \"3.4\"->ipdb)\n",
      "Requirement already satisfied: pexpect; sys_platform != \"win32\" in /srv/app/venv/lib/python3.6/site-packages (from ipython>=5.1.0; python_version >= \"3.4\"->ipdb)\n",
      "Requirement already satisfied: jedi>=0.10 in /srv/app/venv/lib/python3.6/site-packages (from ipython>=5.1.0; python_version >= \"3.4\"->ipdb)\n",
      "Requirement already satisfied: prompt-toolkit<2.1.0,>=2.0.0 in /srv/app/venv/lib/python3.6/site-packages (from ipython>=5.1.0; python_version >= \"3.4\"->ipdb)\n",
      "Requirement already satisfied: backcall in /srv/app/venv/lib/python3.6/site-packages (from ipython>=5.1.0; python_version >= \"3.4\"->ipdb)\n",
      "Requirement already satisfied: pickleshare in /srv/app/venv/lib/python3.6/site-packages (from ipython>=5.1.0; python_version >= \"3.4\"->ipdb)\n",
      "Requirement already satisfied: decorator in /srv/app/venv/lib/python3.6/site-packages (from ipython>=5.1.0; python_version >= \"3.4\"->ipdb)\n",
      "Requirement already satisfied: pygments in /srv/app/venv/lib/python3.6/site-packages (from ipython>=5.1.0; python_version >= \"3.4\"->ipdb)\n",
      "Requirement already satisfied: ipython-genutils in /srv/app/venv/lib/python3.6/site-packages (from traitlets>=4.2->ipython>=5.1.0; python_version >= \"3.4\"->ipdb)\n",
      "Requirement already satisfied: six in /srv/app/venv/lib/python3.6/site-packages (from traitlets>=4.2->ipython>=5.1.0; python_version >= \"3.4\"->ipdb)\n",
      "Requirement already satisfied: ptyprocess>=0.5 in /srv/app/venv/lib/python3.6/site-packages (from pexpect; sys_platform != \"win32\"->ipython>=5.1.0; python_version >= \"3.4\"->ipdb)\n",
      "Requirement already satisfied: parso>=0.3.0 in /srv/app/venv/lib/python3.6/site-packages (from jedi>=0.10->ipython>=5.1.0; python_version >= \"3.4\"->ipdb)\n",
      "Requirement already satisfied: wcwidth in /srv/app/venv/lib/python3.6/site-packages (from prompt-toolkit<2.1.0,>=2.0.0->ipython>=5.1.0; python_version >= \"3.4\"->ipdb)\n",
      "Installing collected packages: ipdb\n"
     ]
    },
    {
     "name": "stdout",
     "output_type": "stream",
     "text": [
      "Successfully installed ipdb-0.12\r\n"
     ]
    }
   ],
   "source": [
    "!pip install lightkurve\n",
    "!pip install line_profiler\n",
    "!pip install ipdb"
   ]
  },
  {
   "cell_type": "markdown",
   "metadata": {},
   "source": [
    "Now we make our imports. "
   ]
  },
  {
   "cell_type": "code",
   "execution_count": 70,
   "metadata": {},
   "outputs": [],
   "source": [
    "from IPython.display import display\n",
    "from ipywidgets import IntProgress\n",
    "import matplotlib.pyplot as plt\n",
    "import multiprocessing as mp\n",
    "import numpy.f2py as f2py\n",
    "import numpy as np\n",
    "import pandas as pd\n",
    "import lightkurve\n",
    "import pickle\n",
    "import ipdb\n",
    "import os\n",
    "\n",
    "from line_profiler import LineProfiler\n",
    "from scipy.stats import gaussian_kde\n",
    "from urllib.request import urlretrieve\n",
    "from urllib.parse import urlencode\n",
    "from urllib.request import urlopen"
   ]
  },
  {
   "cell_type": "markdown",
   "metadata": {},
   "source": [
    "## Using f2py\n",
    "As it turns out, BLS is often implemented in Fortran, as Python is quite slow by comparison. Check out the file ```eebls.f``` to get a sense of how Fortran code looks. The only thing that matters to us here is that the Fortran analogue of a function is a subroutine.\n",
    "\n",
    "We can use numpy's handy [f2py](https://docs.scipy.org/doc/numpy/f2py/) module to solve that for us, though — we can essentially treat the entire code as a black box. If f2py works, it'll output ```0``` after it's done running. Once it's done, we can import the module as normal."
   ]
  },
  {
   "cell_type": "code",
   "execution_count": 13,
   "metadata": {},
   "outputs": [
    {
     "data": {
      "text/plain": [
       "0"
      ]
     },
     "execution_count": 13,
     "metadata": {},
     "output_type": "execute_result"
    }
   ],
   "source": [
    "os.system(\"f2py -c -m eebls eebls.f\")"
   ]
  },
  {
   "cell_type": "code",
   "execution_count": 14,
   "metadata": {},
   "outputs": [],
   "source": [
    "import eebls"
   ]
  },
  {
   "cell_type": "code",
   "execution_count": 15,
   "metadata": {
    "scrolled": true
   },
   "outputs": [],
   "source": [
    "def do_bls(clipped_lc):\n",
    "    '''Takes in a lightcurve object, runs the Fortran BLS implementation, and returns the computed best period.'''\n",
    "    maxper = 20 #maximum orbital period in days\n",
    "    minper = 1 #minimum orbital period in days\n",
    "    maxdurhr = 6 #hours\n",
    "    mindurhr = 0.5 #hours\n",
    "    npoints = len(clipped_lc.time)\n",
    "    u = np.zeros(npoints) #empty work array\n",
    "    v = np.zeros(npoints) #empty work array\n",
    "    fmin = 1/maxper #minimum frequency considered\n",
    "    fmax = 1/minper #maximum frequency considered\n",
    "    qmi = mindurhr/(24.*maxper) #shortest fractional duration considred\n",
    "    qma= np.min([0.1,maxdurhr/(24.*maxper)]) #longest fractional duration considred\n",
    "    nb = 500 #sets the number of bins used at each orbital period; \n",
    "    df = 0.0005 #frequency spacing\n",
    "    nf = np.int((fmax - fmin)/df) #number of frequencies considered\n",
    "    results = eebls.eebls(np.array(clipped_lc.time), np.array(clipped_lc.flux), u, v, nf, fmin, df, nb, qmi, qma)\n",
    "    power, best_period, best_power, depth, q, in1, in2 = results    \n",
    "    f = fmin + np.arange(nf) * df #frequencies used\n",
    "    per_used = 1/f\n",
    "    return best_period"
   ]
  },
  {
   "cell_type": "markdown",
   "metadata": {},
   "source": [
    "Quick reminder to always write docstrings for your functions! You can use the ```help``` function to debug later on."
   ]
  },
  {
   "cell_type": "code",
   "execution_count": 16,
   "metadata": {},
   "outputs": [
    {
     "name": "stdout",
     "output_type": "stream",
     "text": [
      "Help on function do_bls in module __main__:\n",
      "\n",
      "do_bls(clipped_lc)\n",
      "    Takes in a lightcurve object, runs the Fortran BLS implementation, and returns the computed best period.\n",
      "\n"
     ]
    }
   ],
   "source": [
    "help(do_bls)"
   ]
  },
  {
   "cell_type": "markdown",
   "metadata": {},
   "source": [
    "Read the below function, figure out what it does, and write a succint docstring."
   ]
  },
  {
   "cell_type": "code",
   "execution_count": 17,
   "metadata": {},
   "outputs": [],
   "source": [
    "def mask(flat_lc):\n",
    "    global_mean = np.mean(flat_lc.flux)\n",
    "    global_variance = np.var(flat_lc.flux)\n",
    "    sample_means = []\n",
    "    sample_variances = []\n",
    "    bins = 10\n",
    "    bin_indices = np.linspace(0, len(flat_lc.flux), bins).astype(np.int)\n",
    "    for i in range(bins - 1):\n",
    "        sample = flat_lc.flux[bin_indices[i]:bin_indices[i + 1]]\n",
    "        sample_means += [np.mean(sample)]\n",
    "        sample_variances += [np.var(sample)]\n",
    "\n",
    "    m = 1.5\n",
    "    sample_variances = np.array(sample_variances)\n",
    "    bad_bins = np.argwhere(np.abs(sample_variances - np.mean(sample_variances)) > m * np.std(sample_variances))\n",
    "    bad_indices = [(bin_indices[bad_bin[0]], bin_indices[bad_bin[0] + 1]) for bad_bin in bad_bins]\n",
    "    bad_times = [(flat_lc.time[index[0]], flat_lc.time[index[1] - 1]) for index in bad_indices]\n",
    "    for time in bad_times:\n",
    "        mask = (flat_lc.time < time[0]) | (flat_lc.time > time[1])\n",
    "        flat_lc = flat_lc[mask]\n",
    "    return flat_lc"
   ]
  },
  {
   "cell_type": "markdown",
   "metadata": {},
   "source": [
    "## A brief foray into visualization\n",
    "Edit the below function to spit out the ```lc``` object. What is its type? How can we best visualize it? Hint: find the ```lightkurve``` documentation."
   ]
  },
  {
   "cell_type": "code",
   "execution_count": 37,
   "metadata": {},
   "outputs": [],
   "source": [
    "def period_from_url(url):\n",
    "    '''Takes in a URL, reads in the relevant TargetPixelFile, masks it, and runs BLS on it.'''\n",
    "    tpf = lightkurve.TessTargetPixelFile('https://archive.stsci.edu' + url)\n",
    "#     sectors += [tpf.sector]\n",
    "#     cameras += [tpf.camera]\n",
    "#     ccds += [tpf.ccds]\n",
    "    median_image = np.nanmedian(tpf.flux, axis=0)\n",
    "    aperture_mask = median_image > np.nanpercentile(median_image, 85)\n",
    "    lc = tpf.to_lightcurve(aperture_mask=aperture_mask)\n",
    "    flat_lc = lc.flatten(window_length=1001)\n",
    "#     flat_lc = flat_lc.flux\n",
    "#     ipdb.set_trace()\n",
    "    masked_lc = mask(flat_lc)\n",
    "    clipped_lc = masked_lc.remove_outliers(sigma=6)\n",
    "    best_period = do_bls(clipped_lc)\n",
    "    return tpf.targetid, best_period"
   ]
  },
  {
   "cell_type": "markdown",
   "metadata": {},
   "source": [
    "## A brief foray into web scraping\n",
    "Using Python to scrape the internet is one of the coolest things you can do! You literally have *the world* at your fingertips. Edit the below code to see what ```string```, ```strings```, and ```URLs``` look like. Discuss the quality of these variable names.\n",
    "\n",
    "The below code is an example of using Jupyter Notebooks as an exploratory tool — instead of writing functions, I just have open code (a \"flat\" architecture) that I'm using interactively. The benefit of this technique is that it's a quick and dirty way to check whether a method works, and it's easy to write. On the flip side, it's sometimes harder for others to read/debug if your whole notebook is like this (remember docstrings?), and you'll end up with a bunch of variables set out of order all over the place."
   ]
  },
  {
   "cell_type": "code",
   "execution_count": 42,
   "metadata": {},
   "outputs": [],
   "source": [
    "targetids = []\n",
    "sectors = []\n",
    "cameras = []\n",
    "periods = []\n",
    "urlpath = urlopen(f'https://archive.stsci.edu/prepds/tess-data-alerts/')\n",
    "string = urlpath.read().decode('utf-8')\n",
    "strings = string.split('>')\n",
    "URLs = [url[9:-1] for url in strings if url[-8:-1] == 'tp.fits']\n",
    "\n",
    "    \n",
    "f = IntProgress(min=0, max=len(URLs)) # instantiate the progress bar\n",
    "display(f) # display the progress bar\n",
    "\n",
    "for url in URLs:\n",
    "    f.value += 1\n",
    "    targetid, best_period = period_from_url(url)\n",
    "    periods += [best_period] \n",
    "    targetids += [targetid]"
   ]
  },
  {
   "cell_type": "markdown",
   "metadata": {},
   "source": [
    "## A brief foray into debugging\n",
    "This is taking a pretty long time to run! Let's see if we can figure out why. Try to avoid inserting ```print``` statements ad hoc!\n",
    "\n",
    "The first thing to do is insert a trace with [ipdb](https://pypi.org/project/ipdb/). We can simply use ```ipdb.set_trace()``` to do so. When we set a trace, we can essentially interact with any of te variables while a function is mid-execution! Type ```c``` to move past the trace."
   ]
  },
  {
   "cell_type": "code",
   "execution_count": 38,
   "metadata": {},
   "outputs": [
    {
     "data": {
      "text/plain": [
       "(2760710, 15.625)"
      ]
     },
     "execution_count": 38,
     "metadata": {},
     "output_type": "execute_result"
    }
   ],
   "source": [
    " period_from_url(URLs[0])"
   ]
  },
  {
   "cell_type": "markdown",
   "metadata": {},
   "source": [
    "The next thing we can do is see if we can speed some things up. We can try something called multiprocessing to do so — this allows us to make use of Datahub's multiple cores. In order to see how fast the speedup is, we can use a profiler. [line_profiler](https://github.com/rkern/line_profiler), in fact. It is my favorite piece of code in the world.\n",
    "\n",
    "First, we need to turn the above code block into a function. Have the function take in one argument (how many URLs to evaluate), and have it return two lists: ```periods``` and ```targetids```."
   ]
  },
  {
   "cell_type": "code",
   "execution_count": 52,
   "metadata": {},
   "outputs": [
    {
     "data": {
      "application/vnd.jupyter.widget-view+json": {
       "model_id": "9dd7fa2333744dfbbe07a1a1b56c4534",
       "version_major": 2,
       "version_minor": 0
      },
      "text/plain": [
       "IntProgress(value=0, max=30)"
      ]
     },
     "metadata": {},
     "output_type": "display_data"
    },
    {
     "name": "stdout",
     "output_type": "stream",
     "text": [
      "Timer unit: 1e-06 s\n",
      "\n",
      "Total time: 22.7273 s\n",
      "File: <ipython-input-37-f69a4f629a4e>\n",
      "Function: period_from_url at line 1\n",
      "\n",
      "Line #      Hits         Time  Per Hit   % Time  Line Contents\n",
      "==============================================================\n",
      "     1                                           def period_from_url(url):\n",
      "     2                                               '''Takes in a URL, reads in the relevant TargetPixelFile, masks it, and runs BLS on it.'''\n",
      "     3        30    8556027.0 285200.9     37.6      tpf = lightkurve.TessTargetPixelFile('https://archive.stsci.edu' + url)\n",
      "     4                                           #     sectors += [tpf.sector]\n",
      "     5                                           #     cameras += [tpf.camera]\n",
      "     6                                           #     ccds += [tpf.ccds]\n",
      "     7        30    2717404.0  90580.1     12.0      median_image = np.nanmedian(tpf.flux, axis=0)\n",
      "     8        30      10483.0    349.4      0.0      aperture_mask = median_image > np.nanpercentile(median_image, 85)\n",
      "     9        30    2315477.0  77182.6     10.2      lc = tpf.to_lightcurve(aperture_mask=aperture_mask)\n",
      "    10        30    3101192.0 103373.1     13.6      flat_lc = lc.flatten(window_length=1001)\n",
      "    11                                           #     flat_lc = flat_lc.flux\n",
      "    12                                           #     ipdb.set_trace()\n",
      "    13        30      41304.0   1376.8      0.2      masked_lc = mask(flat_lc)\n",
      "    14        30      73818.0   2460.6      0.3      clipped_lc = masked_lc.remove_outliers(sigma=6)\n",
      "    15        30    5911411.0 197047.0     26.0      best_period = do_bls(clipped_lc)\n",
      "    16        30        190.0      6.3      0.0      return tpf.targetid, best_period\n",
      "\n",
      "Total time: 23.6966 s\n",
      "File: <ipython-input-42-ce94cd78c7f4>\n",
      "Function: many_URLs at line 1\n",
      "\n",
      "Line #      Hits         Time  Per Hit   % Time  Line Contents\n",
      "==============================================================\n",
      "     1                                           def many_URLs(length):\n",
      "     2         1          2.0      2.0      0.0      targetids = []\n",
      "     3         1          1.0      1.0      0.0      sectors = []\n",
      "     4         1          1.0      1.0      0.0      cameras = []\n",
      "     5         1          1.0      1.0      0.0      periods = []\n",
      "     6         1     175784.0 175784.0      0.7      urlpath = urlopen(f'https://archive.stsci.edu/prepds/tess-data-alerts/')\n",
      "     7         1     643572.0 643572.0      2.7      string = urlpath.read().decode('utf-8')\n",
      "     8         1       2116.0   2116.0      0.0      strings = string.split('>')\n",
      "     9         1       6098.0   6098.0      0.0      URLs = [url[9:-1] for url in strings if url[-8:-1] == 'tp.fits']\n",
      "    10                                           \n",
      "    11                                           \n",
      "    12         1      13272.0  13272.0      0.1      f = IntProgress(min=0, max=len(URLs[:length])) # instantiate the progress bar\n",
      "    13         1       4600.0   4600.0      0.0      display(f) # display the progress bar\n",
      "    14                                           \n",
      "    15        31         51.0      1.6      0.0      for url in URLs[:length]:\n",
      "    16        30      46360.0   1545.3      0.2          f.value += 1\n",
      "    17        30   22804619.0 760154.0     96.2          targetid, best_period = period_from_url(url)\n",
      "    18        30        117.0      3.9      0.0          periods += [best_period] \n",
      "    19        30         48.0      1.6      0.0          targetids += [targetid]\n",
      "\n"
     ]
    }
   ],
   "source": [
    "lp = LineProfiler() #instantiate the profiler\n",
    "lp.add_function(period_from_url) #add any functions nested in the main\n",
    "lp_wrapper = lp(many_URLs) #call this on the main function\n",
    "lp_wrapper(30) #this is basically you calling your function on an argument\n",
    "lp.print_stats() #witness beauty!"
   ]
  },
  {
   "cell_type": "code",
   "execution_count": 53,
   "metadata": {},
   "outputs": [
    {
     "name": "stdout",
     "output_type": "stream",
     "text": [
      "Number of processors:  8\n",
      "20\n",
      "Timer unit: 1e-06 s\n",
      "\n",
      "Total time: 6.23871 s\n",
      "File: <ipython-input-50-aa352213c077>\n",
      "Function: multiprocess at line 1\n",
      "\n",
      "Line #      Hits         Time  Per Hit   % Time  Line Contents\n",
      "==============================================================\n",
      "     1                                           def multiprocess(length):\n",
      "     2         1     177818.0 177818.0      2.9      urlpath = urlopen(f'https://archive.stsci.edu/prepds/tess-data-alerts/')\n",
      "     3         1     606411.0 606411.0      9.7      string = urlpath.read().decode('utf-8')\n",
      "     4         1       1946.0   1946.0      0.0      strings = string.split('>')\n",
      "     5         1       5625.0   5625.0      0.1      URLs = [url[9:-1] for url in strings if url[-8:-1] == 'tp.fits']\n",
      "     6         1        770.0    770.0      0.0      print(\"Number of processors: \", mp.cpu_count()) #using all the processors on Datahub makes it crash :/\n",
      "     7         1     409733.0 409733.0      6.6      pool = mp.Pool(5)\n",
      "     8                                           \n",
      "     9                                               # Step 2: `pool.apply` the function!`\n",
      "    10         1    5035708.0 5035708.0     80.7      results = pool.map(period_from_url, [url for url in URLs][:length])\n",
      "    11                                           \n",
      "    12                                               # Step 3: Don't forget to close\n",
      "    13         1         13.0     13.0      0.0      pool.close()    \n",
      "    14         1        684.0    684.0      0.0      print(len(results))\n",
      "    15         1          2.0      2.0      0.0      return results\n",
      "\n"
     ]
    }
   ],
   "source": [
    "lp = LineProfiler() #instantiate the profiler\n",
    "lp_wrapper = lp(multiprocess) #call this on the main function\n",
    "lp_wrapper(20) #this is basically you calling your function on an argument\n",
    "lp.print_stats() #witness beauty!"
   ]
  },
  {
   "cell_type": "code",
   "execution_count": 74,
   "metadata": {},
   "outputs": [],
   "source": [
    "def multiprocess(length):\n",
    "    '''Uses multiprocessing to speed up the period computation. Takes in the length of URLs that you'd \n",
    "    like to evaluate, and returns a list of tuples; the first element in each tuple corresponds to the target ID,\n",
    "    and the second element in each tuple corresponds to that target's calculated period.'''\n",
    "    urlpath = urlopen(f'https://archive.stsci.edu/prepds/tess-data-alerts/')\n",
    "    string = urlpath.read().decode('utf-8')\n",
    "    strings = string.split('>')\n",
    "    URLs = [url[9:-1] for url in strings if url[-8:-1] == 'tp.fits']\n",
    "    print(\"Number of processors: \", mp.cpu_count()) #using all the processors on Datahub makes it crash :/\n",
    "    pool = mp.Pool(5)\n",
    "\n",
    "    # Step 2: `pool.apply` the function!`\n",
    "    results = pool.map(period_from_url, [url for url in URLs][:length])\n",
    "\n",
    "    # Step 3: Don't forget to close\n",
    "    pool.close()    \n",
    "    print(len(results))\n",
    "    return results"
   ]
  },
  {
   "cell_type": "markdown",
   "metadata": {},
   "source": [
    "## A brief foray into pickles\n",
    "The above process will still take a while for all the available TESS data. Instead of twiddling our thumbs while we wait for it all to run, we can just read in the results of a previous session I ran.\n",
    "\n",
    "[Pickling](https://docs.python.org/3/library/pickle.html) is a great way to store Python objects. Instead of figuring out how to format your Python object so you can write it to and later read it from a text file or CSV, you just \"dump\" your object into a .pkl file. It is brilliant. "
   ]
  },
  {
   "cell_type": "code",
   "execution_count": 71,
   "metadata": {},
   "outputs": [],
   "source": [
    "#this is the syntax for dumping — no need to run this cell!\n",
    "with open('periods.pkl', 'wb') as f:\n",
    "    pickle.dump(periods, f)\n",
    "    \n",
    "with open('targetids.pkl', 'wb') as f:\n",
    "    pickle.dump(targetids, f)"
   ]
  },
  {
   "cell_type": "code",
   "execution_count": 72,
   "metadata": {},
   "outputs": [],
   "source": [
    "file = open('periods.pkl', 'rb')\n",
    "periods= pickle.load(file)\n",
    "# close the file\n",
    "file.close()\n",
    "\n",
    "file = open('targetids.pkl', 'rb')\n",
    "targetids = pickle.load(file)\n",
    "# close the file\n",
    "file.close()"
   ]
  },
  {
   "cell_type": "markdown",
   "metadata": {},
   "source": [
    "## A brief foray into pandas & more visualization\n",
    "[Pandas](https://pandas.pydata.org/) is a great way to handle a bunch of data. You can organize arrays into columns and just slice the specific data you need. I'm a big fan of it, and it's used quite ubiquitously. In addition, you can also easily write to/read from Excel files and CSVs. One of the coolest things you can do, though, is read directly from an html file!\n",
    "\n",
    "Check out ```big_frame```. How messy is it? Produce a list of the columns.\n",
    "\n",
    "Next, calculate some stats for ```calc_no_dup```."
   ]
  },
  {
   "cell_type": "code",
   "execution_count": 54,
   "metadata": {},
   "outputs": [],
   "source": [
    "big_frame = pd.read_html('https://archive.stsci.edu/prepds/tess-data-alerts/')\n",
    "calc_frame = pd.DataFrame({'TIC ID': targetids, 'Period':periods})"
   ]
  },
  {
   "cell_type": "code",
   "execution_count": 55,
   "metadata": {},
   "outputs": [],
   "source": [
    "tic = big_frame[0][big_frame[0].columns[0][0]].squeeze().values\n",
    "toi = big_frame[0][big_frame[0].columns[1][0]].squeeze().values\n",
    "period = big_frame[0][big_frame[0].columns[4][0]].squeeze().values\n",
    "epoch = big_frame[0][big_frame[0].columns[5][0]].squeeze().values\n",
    "\n",
    "true_frame = pd.DataFrame({'TIC ID': tic, 'TOI ID': toi, 'Period':period, 'Epoch':epoch})\n",
    "true_frame = true_frame.drop_duplicates('TIC ID')\n",
    "\n",
    "not_nan = np.isfinite(true_frame['TIC ID']) & np.isfinite(true_frame['Period'])\n",
    "relevant_t = true_frame['TIC ID'].isin(calc_frame['TIC ID'].values) #question: same order?\n",
    "relevant_trues = true_frame[relevant_t & not_nan]\n",
    "\n",
    "relevant_c = calc_frame['TIC ID'].isin(relevant_trues['TIC ID'].values)\n",
    "calc_frame = calc_frame[relevant_c]\n",
    "\n",
    "calc_no_dup = calc_frame.drop_duplicates('TIC ID').reset_index(drop=True)\n",
    "\n",
    "\n",
    "for i in range(len(calc_no_dup)):\n",
    "    sub = calc_frame[calc_frame['TIC ID'] == calc_no_dup['TIC ID'][i]]\n",
    "    mean_period = np.mean(sub['Period'])\n",
    "    calc_no_dup.loc[i, 'Period'] = mean_period\n",
    "#for duplicates I'm taking the average — just a start"
   ]
  },
  {
   "cell_type": "code",
   "execution_count": 68,
   "metadata": {},
   "outputs": [],
   "source": [
    "#labels here being truths\n",
    "def calc_stats(data, truths):\n",
    "    '''Inputs are an array-like object with calculated values and an array-like object with true values.\n",
    "    Returns bias and root-mean-squared scatter.'''\n",
    "    bias = np.mean((np.array([a - b for a,b in zip(data, truths)])))\n",
    "    RMS_array = (np.array([pow(a - b, 2) for a,b in zip(data,truths)]))\n",
    "    RMS = np.sqrt((1/len(RMS_array))*np.sum(RMS_array))\n",
    "    return bias, RMS"
   ]
  },
  {
   "cell_type": "markdown",
   "metadata": {},
   "source": [
    "You'll notice that our plot doesn't look very good. Discuss with your neighbor why this might be the case."
   ]
  },
  {
   "cell_type": "code",
   "execution_count": 67,
   "metadata": {},
   "outputs": [
    {
     "data": {
      "text/plain": [
       "<matplotlib.legend.Legend at 0x7f287906ffd0>"
      ]
     },
     "execution_count": 67,
     "metadata": {},
     "output_type": "execute_result"
    },
    {
     "data": {
      "image/png": "[encoded data removed]",
      "text/plain": [
       "<Figure size 1080x792 with 2 Axes>"
      ]
     },
     "metadata": {},
     "output_type": "display_data"
    }
   ],
   "source": [
    "max_point = max(np.max(calc_frame['Period']), np.max(relevant_trues['Period']))\n",
    "\n",
    "xy = np.vstack([calc_no_dup['Period'], relevant_trues['Period']]) \n",
    "z = gaussian_kde(xy)(xy) #calculates how dense a certain scatter region is\n",
    "\n",
    "x = np.linspace(0, max_point + 1, 100)\n",
    "\n",
    "bias, RMS = calc_stats(calc_no_dup['Period'], relevant_trues['Period'])\n",
    "\n",
    "plt.style.use('seaborn') #a nice styling!\n",
    "plt.figure(figsize=(15,11)) #make the size of the plot\n",
    "plt.scatter(calc_no_dup['Period'], relevant_trues['Period'], c=z, cmap='viridis', label='')\n",
    "plt.plot(x,x,color='black', alpha=.3)\n",
    "plt.xlim(0, max_point + 1)\n",
    "plt.ylim(0, max_point + 1)\n",
    "plt.colorbar(label=\"Kernel Density\")\n",
    "plt.text(1, max_point - 3, r'$\\sigma_{RMS} \\approx $' + f\"{round(RMS,3)} days, \\\n",
    " bias = {round(bias,3)} days\",\n",
    "         horizontalalignment='left',\n",
    "         verticalalignment='center',\n",
    "         clip_on=False)\n",
    "plt.xlabel('Calculated Period')\n",
    "plt.axhline(y=1, label='Lower bound of BLS parameter space')\n",
    "plt.axhline(y=20, color='lightcoral', label='Upper bound of BLS parameter space')\n",
    "plt.ylabel('Table Period')\n",
    "plt.title('Running BLS on TPF lightcurves')\n",
    "plt.legend()"
   ]
  }
 ],
 "metadata": {
  "kernelspec": {
   "display_name": "Python 3",
   "language": "python",
   "name": "python3"
  },
  "language_info": {
   "codemirror_mode": {
    "name": "ipython",
    "version": 3
   },
   "file_extension": ".py",
   "mimetype": "text/x-python",
   "name": "python",
   "nbconvert_exporter": "python",
   "pygments_lexer": "ipython3",
   "version": "3.6.7"
  }
 },
 "nbformat": 4,
 "nbformat_minor": 2
}
